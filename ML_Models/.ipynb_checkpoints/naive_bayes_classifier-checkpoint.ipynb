{
 "cells": [
  {
   "cell_type": "code",
   "execution_count": 1,
   "metadata": {},
   "outputs": [
    {
     "data": {
      "text/plain": [
       "<Figure size 2600x2600 with 1 Axes>"
      ]
     },
     "metadata": {},
     "output_type": "display_data"
    },
    {
     "name": "stdout",
     "output_type": "stream",
     "text": [
      "70.00% in training set\n",
      "30.00% in test set\n"
     ]
    }
   ],
   "source": [
    "#model training with naive bayes classifier\n",
    "from sklearn.naive_bayes import GaussianNB\n",
    "from sklearn import metrics\n",
    "\n",
    "# import custom module \n",
    "import data_preprocessing as dpp"
   ]
  },
  {
   "cell_type": "code",
   "execution_count": 2,
   "metadata": {},
   "outputs": [
    {
     "data": {
      "text/plain": [
       "GaussianNB(priors=None, var_smoothing=1e-09)"
      ]
     },
     "execution_count": 2,
     "metadata": {},
     "output_type": "execute_result"
    }
   ],
   "source": [
    "#creating model object\n",
    "gnb_model = GaussianNB()\n",
    "\n",
    "# fit model \n",
    "gnb_model.fit(dpp.F_train, dpp.P_train.ravel())"
   ]
  },
  {
   "cell_type": "code",
   "execution_count": 3,
   "metadata": {},
   "outputs": [],
   "source": [
    "# predicted results\n",
    "gnb_model_prediction_from_trained_data = gnb_model.predict(dpp.F_train)\n",
    "gnb_model_prediction_from_test_data = gnb_model.predict(dpp.F_test)\n",
    "\n",
    "# get current accuracy of the model\n",
    "gnb_model_accuracy_from_trained_data = metrics.accuracy_score(dpp.P_train, gnb_model_prediction_from_trained_data)\n",
    "gnb_model_accuracy_from_test_data = metrics.accuracy_score(dpp.P_test, gnb_model_prediction_from_test_data)"
   ]
  },
  {
   "cell_type": "code",
   "execution_count": 4,
   "metadata": {},
   "outputs": [
    {
     "name": "stdout",
     "output_type": "stream",
     "text": [
      "Accuracy from trained data of naive bayes model is : 87.7143%\n",
      "Accuracy from test data of naive bayes model is : 92.0000%\n"
     ]
    }
   ],
   "source": [
    "# Output\n",
    "print (\"Accuracy from trained data of naive bayes model is : {0:.4f}%\".format(gnb_model_accuracy_from_trained_data*100))\n",
    "print (\"Accuracy from test data of naive bayes model is : {0:.4f}%\".format(gnb_model_accuracy_from_test_data*100))"
   ]
  }
 ],
 "metadata": {
  "kernelspec": {
   "display_name": "Python 3",
   "language": "python",
   "name": "python3"
  },
  "language_info": {
   "codemirror_mode": {
    "name": "ipython",
    "version": 3
   },
   "file_extension": ".py",
   "mimetype": "text/x-python",
   "name": "python",
   "nbconvert_exporter": "python",
   "pygments_lexer": "ipython3",
   "version": "3.7.4"
  }
 },
 "nbformat": 4,
 "nbformat_minor": 2
}
