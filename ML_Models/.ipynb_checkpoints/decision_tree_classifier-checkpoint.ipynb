{
 "cells": [
  {
   "cell_type": "code",
   "execution_count": 1,
   "metadata": {},
   "outputs": [
    {
     "data": {
      "text/plain": [
       "<Figure size 2600x2600 with 1 Axes>"
      ]
     },
     "metadata": {},
     "output_type": "display_data"
    },
    {
     "name": "stdout",
     "output_type": "stream",
     "text": [
      "70.00% in training set\n",
      "30.00% in test set\n"
     ]
    }
   ],
   "source": [
    "#model training with decision tree classifier\n",
    "from sklearn.tree import DecisionTreeClassifier\n",
    "from sklearn import metrics\n",
    "\n",
    "# import custom module \n",
    "import data_preprocessing as dpp"
   ]
  },
  {
   "cell_type": "code",
   "execution_count": 2,
   "metadata": {},
   "outputs": [
    {
     "data": {
      "text/plain": [
       "DecisionTreeClassifier(class_weight=None, criterion='gini', max_depth=None,\n",
       "                       max_features=None, max_leaf_nodes=None,\n",
       "                       min_impurity_decrease=0.0, min_impurity_split=None,\n",
       "                       min_samples_leaf=1, min_samples_split=2,\n",
       "                       min_weight_fraction_leaf=0.0, presort=False,\n",
       "                       random_state=None, splitter='best')"
      ]
     },
     "execution_count": 2,
     "metadata": {},
     "output_type": "execute_result"
    }
   ],
   "source": [
    "#creating model object\n",
    "dtc_model = DecisionTreeClassifier()\n",
    "\n",
    "# fit model \n",
    "dtc_model.fit(dpp.F_train, dpp.P_train.ravel())"
   ]
  },
  {
   "cell_type": "code",
   "execution_count": 3,
   "metadata": {},
   "outputs": [],
   "source": [
    "# prediction results \n",
    "dtc_model_prediction_from_trained_data = dtc_model.predict(dpp.F_train)\n",
    "dtc_model_prediction_from_test_data = dtc_model.predict(dpp.F_test)\n",
    "\n",
    "# get current accuracy of the model\n",
    "dtc_model_accuracy_from_trained_data = metrics.accuracy_score(dpp.P_train, dtc_model_prediction_from_trained_data)\n",
    "dtc_model_accuracy_from_test_data = metrics.accuracy_score(dpp.P_test, dtc_model_prediction_from_test_data)"
   ]
  },
  {
   "cell_type": "code",
   "execution_count": 4,
   "metadata": {},
   "outputs": [
    {
     "name": "stdout",
     "output_type": "stream",
     "text": [
      "Accuracy from trained data of dtc model is : 100.0000%\n",
      "Accuracy from test data of dtc model is : 100.0000%\n"
     ]
    }
   ],
   "source": [
    "#output \n",
    "print (\"Accuracy from trained data of dtc model is : {0:.4f}%\".format(dtc_model_accuracy_from_trained_data*100))\n",
    "print (\"Accuracy from test data of dtc model is : {0:.4f}%\".format(dtc_model_accuracy_from_test_data*100))"
   ]
  }
 ],
 "metadata": {
  "kernelspec": {
   "display_name": "Python 3",
   "language": "python",
   "name": "python3"
  },
  "language_info": {
   "codemirror_mode": {
    "name": "ipython",
    "version": 3
   },
   "file_extension": ".py",
   "mimetype": "text/x-python",
   "name": "python",
   "nbconvert_exporter": "python",
   "pygments_lexer": "ipython3",
   "version": "3.7.4"
  }
 },
 "nbformat": 4,
 "nbformat_minor": 2
}
