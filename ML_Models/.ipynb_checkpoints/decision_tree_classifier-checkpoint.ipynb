{
 "cells": [
  {
   "cell_type": "markdown",
   "metadata": {},
   "source": [
    "### Import libraries and module"
   ]
  },
  {
   "cell_type": "code",
   "execution_count": 1,
   "metadata": {},
   "outputs": [
    {
     "name": "stdout",
     "output_type": "stream",
     "text": [
      "Number of Low Cases: 303 (30.30%)\n",
      "Number of Medium Cases: 332 (33.20%)\n",
      "Number of High Cases: 365 (36.50%)\n"
     ]
    },
    {
     "data": {
      "text/plain": [
       "<Figure size 2500x2500 with 1 Axes>"
      ]
     },
     "metadata": {},
     "output_type": "display_data"
    },
    {
     "name": "stdout",
     "output_type": "stream",
     "text": [
      "70.00% in training set\n",
      "30.00% in test set\n",
      "70.00% in training set\n",
      "30.00% in test set\n"
     ]
    }
   ],
   "source": [
    "from sklearn.tree import DecisionTreeClassifier\n",
    "from sklearn import metrics\n",
    "import matplotlib.pyplot as plt\n",
    "from sklearn.metrics import accuracy_score, confusion_matrix, classification_report, precision_score, recall_score, f1_score,roc_curve, roc_auc_score, auc \n",
    "from sklearn.model_selection import cross_val_score, StratifiedKFold, LeaveOneOut\n",
    "\n",
    "# import custom module \n",
    "import data_preprocessing as dpp"
   ]
  },
  {
   "cell_type": "markdown",
   "metadata": {},
   "source": [
    "# Section 1: Model training by decision tree classifier with all features"
   ]
  },
  {
   "cell_type": "code",
   "execution_count": 2,
   "metadata": {},
   "outputs": [
    {
     "data": {
      "text/plain": [
       "DecisionTreeClassifier()"
      ]
     },
     "execution_count": 2,
     "metadata": {},
     "output_type": "execute_result"
    }
   ],
   "source": [
    "#creating model object\n",
    "dtc_model = DecisionTreeClassifier()\n",
    "\n",
    "# fit model \n",
    "dtc_model.fit(dpp.F_train, dpp.P_train.ravel())"
   ]
  },
  {
   "cell_type": "markdown",
   "metadata": {},
   "source": [
    "### Prediction results "
   ]
  },
  {
   "cell_type": "code",
   "execution_count": 3,
   "metadata": {},
   "outputs": [],
   "source": [
    "dtc_model_prediction_from_trained_data = dtc_model.predict(dpp.F_train)\n",
    "dtc_model_prediction_from_test_data = dtc_model.predict(dpp.F_test)\n",
    "\n",
    "# get current accuracy of the model\n",
    "dtc_model_accuracy_from_trained_data = metrics.accuracy_score(dpp.P_train, dtc_model_prediction_from_trained_data)\n",
    "dtc_model_accuracy_from_test_data = metrics.accuracy_score(dpp.P_test, dtc_model_prediction_from_test_data)"
   ]
  },
  {
   "cell_type": "code",
   "execution_count": 4,
   "metadata": {},
   "outputs": [
    {
     "name": "stdout",
     "output_type": "stream",
     "text": [
      "Accuracy from trained data of dtc model is : 100.0000%\n",
      "Accuracy from test data of dtc model is : 100.0000%\n"
     ]
    }
   ],
   "source": [
    "#output \n",
    "print (\"Accuracy from trained data of dtc model is : {0:.4f}%\".format(dtc_model_accuracy_from_trained_data*100))\n",
    "print (\"Accuracy from test data of dtc model is : {0:.4f}%\".format(dtc_model_accuracy_from_test_data*100))"
   ]
  },
  {
   "cell_type": "markdown",
   "metadata": {},
   "source": [
    "### Cross Validation"
   ]
  },
  {
   "cell_type": "markdown",
   "metadata": {},
   "source": [
    "#### k-Fold Cross Validation"
   ]
  },
  {
   "cell_type": "code",
   "execution_count": 5,
   "metadata": {},
   "outputs": [],
   "source": [
    "kF_cv_score = cross_val_score(dtc_model,dpp.F,dpp.P.ravel(),cv=10)"
   ]
  },
  {
   "cell_type": "code",
   "execution_count": 6,
   "metadata": {},
   "outputs": [
    {
     "data": {
      "text/plain": [
       "array([1., 1., 1., 1., 1., 1., 1., 1., 1., 1.])"
      ]
     },
     "execution_count": 6,
     "metadata": {},
     "output_type": "execute_result"
    }
   ],
   "source": [
    "kF_cv_score"
   ]
  },
  {
   "cell_type": "code",
   "execution_count": 7,
   "metadata": {},
   "outputs": [
    {
     "data": {
      "text/plain": [
       "100.0"
      ]
     },
     "execution_count": 7,
     "metadata": {},
     "output_type": "execute_result"
    }
   ],
   "source": [
    "kF_cv_score.mean()*100"
   ]
  },
  {
   "cell_type": "markdown",
   "metadata": {},
   "source": [
    "#### Stratified cross validation "
   ]
  },
  {
   "cell_type": "code",
   "execution_count": 8,
   "metadata": {},
   "outputs": [],
   "source": [
    "SFKF = StratifiedKFold(n_splits=5)\n",
    "SFKF_cv_score = cross_val_score(dtc_model,dpp.F,dpp.P.ravel(),cv=SFKF)"
   ]
  },
  {
   "cell_type": "code",
   "execution_count": 9,
   "metadata": {},
   "outputs": [
    {
     "data": {
      "text/plain": [
       "array([1., 1., 1., 1., 1.])"
      ]
     },
     "execution_count": 9,
     "metadata": {},
     "output_type": "execute_result"
    }
   ],
   "source": [
    "SFKF_cv_score"
   ]
  },
  {
   "cell_type": "code",
   "execution_count": 10,
   "metadata": {},
   "outputs": [
    {
     "data": {
      "text/plain": [
       "100.0"
      ]
     },
     "execution_count": 10,
     "metadata": {},
     "output_type": "execute_result"
    }
   ],
   "source": [
    "SFKF_cv_score.mean()*100 "
   ]
  },
  {
   "cell_type": "markdown",
   "metadata": {},
   "source": [
    "#### LeaveOneOut cross validation"
   ]
  },
  {
   "cell_type": "code",
   "execution_count": 11,
   "metadata": {},
   "outputs": [],
   "source": [
    "loo_validation = LeaveOneOut()\n",
    "LOO_cv_score = cross_val_score(dtc_model,dpp.F,dpp.P.ravel(),cv=loo_validation)"
   ]
  },
  {
   "cell_type": "code",
   "execution_count": 12,
   "metadata": {},
   "outputs": [],
   "source": [
    "LOO_cv_score"
   ]
  },
  {
   "cell_type": "code",
   "execution_count": 13,
   "metadata": {},
   "outputs": [],
   "source": [
    "LOO_cv_score.mean()*100"
   ]
  },
  {
   "cell_type": "markdown",
   "metadata": {},
   "source": [
    "### Performance metrics"
   ]
  },
  {
   "cell_type": "markdown",
   "metadata": {},
   "source": [
    "#### Confusion matrix"
   ]
  },
  {
   "cell_type": "code",
   "execution_count": 14,
   "metadata": {},
   "outputs": [
    {
     "name": "stdout",
     "output_type": "stream",
     "text": [
      "confusion matrix for trained data :\n",
      "[[214   0   0]\n",
      " [  0 236   0]\n",
      " [  0   0 250]]\n",
      "confusion matrix for test data :\n",
      "[[ 89   0   0]\n",
      " [  0  96   0]\n",
      " [  0   0 115]]\n"
     ]
    },
    {
     "data": {
      "image/png": "[encoded data removed]",
      "text/plain": [
       "<Figure size 432x288 with 2 Axes>"
      ]
     },
     "metadata": {
      "needs_background": "light"
     },
     "output_type": "display_data"
    }
   ],
   "source": [
    "print(\"confusion matrix for trained data :\")\n",
    "print(metrics.confusion_matrix(dpp.P_train, dtc_model_prediction_from_trained_data))\n",
    "\n",
    "print(\"confusion matrix for test data :\")\n",
    "cm = metrics.confusion_matrix(dpp.P_test, dtc_model_prediction_from_test_data)\n",
    "\n",
    "print(cm)\n",
    "\n",
    "cmd = metrics.ConfusionMatrixDisplay(confusion_matrix=cm, display_labels=[\"Low\",\"Medium\",\"High\"])\n",
    "cmd.plot()\n",
    "plt.show()"
   ]
  },
  {
   "cell_type": "markdown",
   "metadata": {},
   "source": [
    "#### Classification report"
   ]
  },
  {
   "cell_type": "code",
   "execution_count": 15,
   "metadata": {},
   "outputs": [
    {
     "name": "stdout",
     "output_type": "stream",
     "text": [
      "classification report for trained data :\n",
      "              precision    recall  f1-score   support\n",
      "\n",
      "           1       1.00      1.00      1.00       214\n",
      "           2       1.00      1.00      1.00       236\n",
      "           3       1.00      1.00      1.00       250\n",
      "\n",
      "    accuracy                           1.00       700\n",
      "   macro avg       1.00      1.00      1.00       700\n",
      "weighted avg       1.00      1.00      1.00       700\n",
      "\n",
      "classification report for test data :\n",
      "              precision    recall  f1-score   support\n",
      "\n",
      "           1       1.00      1.00      1.00        89\n",
      "           2       1.00      1.00      1.00        96\n",
      "           3       1.00      1.00      1.00       115\n",
      "\n",
      "    accuracy                           1.00       300\n",
      "   macro avg       1.00      1.00      1.00       300\n",
      "weighted avg       1.00      1.00      1.00       300\n",
      "\n"
     ]
    }
   ],
   "source": [
    "print(\"classification report for trained data :\")\n",
    "print(metrics.classification_report(dpp.P_train, dtc_model_prediction_from_trained_data))\n",
    "\n",
    "print(\"classification report for test data :\")\n",
    "print(metrics.classification_report(dpp.P_test, dtc_model_prediction_from_test_data))"
   ]
  },
  {
   "cell_type": "markdown",
   "metadata": {},
   "source": [
    "### ROC Curve with all features"
   ]
  },
  {
   "cell_type": "code",
   "execution_count": 16,
   "metadata": {},
   "outputs": [
    {
     "data": {
      "image/png": "[encoded data removed]",
      "text/plain": [
       "<Figure size 500x500 with 1 Axes>"
      ]
     },
     "metadata": {},
     "output_type": "display_data"
    }
   ],
   "source": [
    "dtc_model_roc = dtc_model.predict_proba(dpp.F_test)\n",
    "fpr, tpr, threshold = roc_curve(dpp.P_test, dtc_model_roc[:,1], pos_label=2)\n",
    "auc_value = auc(fpr, tpr)\n",
    "fig = plt.figure(figsize=(5, 5), dpi=100)\n",
    "fig.patch.set_facecolor('#8a2be2')\n",
    "ax = plt.gca()\n",
    "ax.set_facecolor(\"#FFF8F3\")\n",
    "plt.plot(fpr,tpr, linestyle='-', label='DTC (auc = %0.3f)' % auc_value)\n",
    "plt.legend(loc='lower right')\n",
    "plt.plot([0,1],[0,1],'g--')\n",
    "plt.xlabel(\"False Positive\")\n",
    "plt.ylabel(\"True Positive\")\n",
    "plt.title(\"ROC Curve For DTC\")\n",
    "plt.show()"
   ]
  },
  {
   "cell_type": "markdown",
   "metadata": {},
   "source": [
    "# Section 2: Model training by decision tree classifier with all features"
   ]
  },
  {
   "cell_type": "code",
   "execution_count": 17,
   "metadata": {},
   "outputs": [
    {
     "data": {
      "text/plain": [
       "DecisionTreeClassifier()"
      ]
     },
     "execution_count": 17,
     "metadata": {},
     "output_type": "execute_result"
    }
   ],
   "source": [
    "#creating model object\n",
    "dtc_model_wsf = DecisionTreeClassifier()\n",
    "\n",
    "# fit model\n",
    "dtc_model_wsf.fit(dpp.F_selec_train, dpp.P_selec_train.ravel())"
   ]
  },
  {
   "cell_type": "markdown",
   "metadata": {},
   "source": [
    "### Prediction results "
   ]
  },
  {
   "cell_type": "code",
   "execution_count": 18,
   "metadata": {},
   "outputs": [],
   "source": [
    "dtc_model_wsf_prediction_from_trained_data = dtc_model_wsf.predict(dpp.F_selec_train)\n",
    "dtc_model_wsf_prediction_from_test_data = dtc_model_wsf.predict(dpp.F_selec_test)\n",
    "\n",
    "# get current accuracy of the model\n",
    "dtc_model_wsf_accuracy_from_trained_data = accuracy_score(dpp.P_selec_train, dtc_model_wsf_prediction_from_trained_data)\n",
    "dtc_model_wsf_accuracy_from_test_data = accuracy_score(dpp.P_selec_test, dtc_model_wsf_prediction_from_test_data)"
   ]
  },
  {
   "cell_type": "code",
   "execution_count": 19,
   "metadata": {},
   "outputs": [
    {
     "name": "stdout",
     "output_type": "stream",
     "text": [
      "Accuracy from trained data of knn model is : 100.0000%\n",
      "Accuracy from test data of knn model is : 100.0000%\n"
     ]
    }
   ],
   "source": [
    "#output \n",
    "print (\"Accuracy from trained data of knn model is : {0:.4f}%\".format(dtc_model_wsf_accuracy_from_trained_data*100))\n",
    "print (\"Accuracy from test data of knn model is : {0:.4f}%\".format(dtc_model_wsf_accuracy_from_test_data*100))"
   ]
  },
  {
   "cell_type": "markdown",
   "metadata": {},
   "source": [
    "### Performance Metrics"
   ]
  },
  {
   "cell_type": "markdown",
   "metadata": {},
   "source": [
    "#### Confusion matrix"
   ]
  },
  {
   "cell_type": "code",
   "execution_count": 20,
   "metadata": {},
   "outputs": [
    {
     "name": "stdout",
     "output_type": "stream",
     "text": [
      "confusion matrix for train data :\n",
      "[[214   0   0]\n",
      " [  0 236   0]\n",
      " [  0   0 250]]\n",
      "confusion matrix for test data :\n",
      "[[ 89   0   0]\n",
      " [  0  96   0]\n",
      " [  0   0 115]]\n"
     ]
    },
    {
     "data": {
      "image/png": "[encoded data removed]",
      "text/plain": [
       "<Figure size 432x288 with 2 Axes>"
      ]
     },
     "metadata": {
      "needs_background": "light"
     },
     "output_type": "display_data"
    }
   ],
   "source": [
    "#confusion matrix\n",
    "print(\"confusion matrix for train data :\")\n",
    "print(confusion_matrix(dpp.P_selec_train, dtc_model_wsf_prediction_from_trained_data))\n",
    "\n",
    "\n",
    "print(\"confusion matrix for test data :\")\n",
    "cm = metrics.confusion_matrix(dpp.P_test, dtc_model_wsf_prediction_from_test_data)\n",
    "\n",
    "print(cm)\n",
    "\n",
    "cmd = metrics.ConfusionMatrixDisplay(confusion_matrix=cm, display_labels=[\"Low\",\"Medium\",\"High\"])\n",
    "cmd.plot()\n",
    "plt.show()"
   ]
  },
  {
   "cell_type": "markdown",
   "metadata": {},
   "source": [
    "#### Classification report"
   ]
  },
  {
   "cell_type": "code",
   "execution_count": 21,
   "metadata": {},
   "outputs": [
    {
     "name": "stdout",
     "output_type": "stream",
     "text": [
      "classification report for trained data :\n",
      "              precision    recall  f1-score   support\n",
      "\n",
      "           1       1.00      1.00      1.00       214\n",
      "           2       1.00      1.00      1.00       236\n",
      "           3       1.00      1.00      1.00       250\n",
      "\n",
      "    accuracy                           1.00       700\n",
      "   macro avg       1.00      1.00      1.00       700\n",
      "weighted avg       1.00      1.00      1.00       700\n",
      "\n",
      "classification report for test data :\n",
      "              precision    recall  f1-score   support\n",
      "\n",
      "           1       1.00      1.00      1.00        89\n",
      "           2       1.00      1.00      1.00        96\n",
      "           3       1.00      1.00      1.00       115\n",
      "\n",
      "    accuracy                           1.00       300\n",
      "   macro avg       1.00      1.00      1.00       300\n",
      "weighted avg       1.00      1.00      1.00       300\n",
      "\n"
     ]
    }
   ],
   "source": [
    "print(\"classification report for trained data :\")\n",
    "print(classification_report(dpp.P_selec_train, dtc_model_wsf_prediction_from_trained_data))\n",
    "\n",
    "print(\"classification report for test data :\")\n",
    "print(classification_report(dpp.P_selec_test, dtc_model_wsf_prediction_from_test_data))"
   ]
  },
  {
   "cell_type": "markdown",
   "metadata": {},
   "source": [
    "### ROC Curve with selected feature"
   ]
  },
  {
   "cell_type": "code",
   "execution_count": 22,
   "metadata": {},
   "outputs": [
    {
     "data": {
      "image/png": "[encoded data removed]",
      "text/plain": [
       "<Figure size 500x500 with 1 Axes>"
      ]
     },
     "metadata": {},
     "output_type": "display_data"
    }
   ],
   "source": [
    "dtc_model_wsf_roc = dtc_model_wsf.predict_proba(dpp.F_selec_test)\n",
    "fpr_wsf, tpr_wsf, threshold_wsf = roc_curve(dpp.P_selec_test, dtc_model_wsf_roc[:,1], pos_label=2)\n",
    "auc_value_wsf = auc(fpr_wsf, tpr_wsf)\n",
    "fig = plt.figure(figsize=(5, 5), dpi=100)\n",
    "fig.patch.set_facecolor('#fa8072')\n",
    "ax = plt.gca()\n",
    "ax.set_facecolor(\"#FFF8F3\")\n",
    "plt.plot(fpr_wsf,tpr_wsf, linestyle='-', label='DTC (auc = %0.3f)' % auc_value_wsf)\n",
    "plt.legend(loc='lower right')\n",
    "plt.plot([0,1],[0,1],'g--')\n",
    "plt.xlabel(\"False Positive\")\n",
    "plt.ylabel(\"True Positive\")\n",
    "plt.title(\"ROC Curve for DTC\")\n",
    "plt.show()"
   ]
  }
 ],
 "metadata": {
  "kernelspec": {
   "display_name": "Python 3",
   "language": "python",
   "name": "python3"
  },
  "language_info": {
   "codemirror_mode": {
    "name": "ipython",
    "version": 3
   },
   "file_extension": ".py",
   "mimetype": "text/x-python",
   "name": "python",
   "nbconvert_exporter": "python",
   "pygments_lexer": "ipython3",
   "version": "3.7.4"
  }
 },
 "nbformat": 4,
 "nbformat_minor": 2
}
