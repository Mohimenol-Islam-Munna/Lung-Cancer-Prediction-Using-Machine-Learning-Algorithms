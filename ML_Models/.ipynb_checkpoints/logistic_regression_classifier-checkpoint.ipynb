{
 "cells": [
  {
   "cell_type": "code",
   "execution_count": 1,
   "metadata": {},
   "outputs": [
    {
     "data": {
      "text/plain": [
       "<Figure size 2600x2600 with 1 Axes>"
      ]
     },
     "metadata": {},
     "output_type": "display_data"
    },
    {
     "name": "stdout",
     "output_type": "stream",
     "text": [
      "70.00% in training set\n",
      "30.00% in test set\n"
     ]
    }
   ],
   "source": [
    "#model training with logistic regression classifier\n",
    "from sklearn.linear_model import LogisticRegression\n",
    "from sklearn import metrics\n",
    "\n",
    "# import custom module \n",
    "import data_preprocessing as dpp"
   ]
  },
  {
   "cell_type": "code",
   "execution_count": 2,
   "metadata": {},
   "outputs": [
    {
     "data": {
      "text/plain": [
       "LogisticRegression(C=1.0, class_weight=None, dual=False, fit_intercept=True,\n",
       "                   intercept_scaling=1, l1_ratio=None, max_iter=100,\n",
       "                   multi_class='auto', n_jobs=None, penalty='l2',\n",
       "                   random_state=0, solver='liblinear', tol=0.0001, verbose=0,\n",
       "                   warm_start=False)"
      ]
     },
     "execution_count": 2,
     "metadata": {},
     "output_type": "execute_result"
    }
   ],
   "source": [
    "#creating model object\n",
    "lrc_model = LogisticRegression(random_state=0, solver='liblinear', multi_class='auto')\n",
    "\n",
    "# fit model\n",
    "lrc_model.fit(dpp.F_train, dpp.P_train.ravel())"
   ]
  },
  {
   "cell_type": "code",
   "execution_count": 3,
   "metadata": {},
   "outputs": [],
   "source": [
    "# prediction results \n",
    "lrc_model_prediction_from_trained_data = lrc_model.predict(dpp.F_train)\n",
    "lrc_model_prediction_from_test_data = lrc_model.predict(dpp.F_test)\n",
    "\n",
    "# get current accuracy of the model\n",
    "lrc_model_accuracy_from_trained_data = metrics.accuracy_score(dpp.P_train, lrc_model_prediction_from_trained_data)\n",
    "lrc_model_accuracy_from_test_data = metrics.accuracy_score(dpp.P_test, lrc_model_prediction_from_test_data)"
   ]
  },
  {
   "cell_type": "code",
   "execution_count": 4,
   "metadata": {},
   "outputs": [
    {
     "name": "stdout",
     "output_type": "stream",
     "text": [
      "Accuracy from trained data of lrc model is : 98.0000%\n",
      "Accuracy from test data of lrc model is : 97.3333%\n"
     ]
    }
   ],
   "source": [
    "#output \n",
    "print (\"Accuracy from trained data of lrc model is : {0:.4f}%\".format(lrc_model_accuracy_from_trained_data*100))\n",
    "print (\"Accuracy from test data of lrc model is : {0:.4f}%\".format(lrc_model_accuracy_from_test_data*100))"
   ]
  }
 ],
 "metadata": {
  "kernelspec": {
   "display_name": "Python 3",
   "language": "python",
   "name": "python3"
  },
  "language_info": {
   "codemirror_mode": {
    "name": "ipython",
    "version": 3
   },
   "file_extension": ".py",
   "mimetype": "text/x-python",
   "name": "python",
   "nbconvert_exporter": "python",
   "pygments_lexer": "ipython3",
   "version": "3.7.4"
  }
 },
 "nbformat": 4,
 "nbformat_minor": 2
}
