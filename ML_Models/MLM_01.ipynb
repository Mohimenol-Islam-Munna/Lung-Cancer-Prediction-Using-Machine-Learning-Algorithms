{
 "cells": [
  {
   "cell_type": "code",
   "execution_count": null,
   "metadata": {},
   "outputs": [],
   "source": [
    "# first model\n",
    "print(\"This is first model of my thesis\")"
   ]
  },
  {
   "cell_type": "code",
   "execution_count": null,
   "metadata": {},
   "outputs": [],
   "source": [
    "#import different library\n",
    "import pandas as pd\n",
    "import numpy as np\n",
    "import matplotlib.pyplot as plt\n",
    "import sklearn as skl"
   ]
  },
  {
   "cell_type": "code",
   "execution_count": null,
   "metadata": {},
   "outputs": [],
   "source": [
    "#Data preprocesing\n",
    "#import dataset\n",
    "data_set = pd.read_csv(r\"I:\\1.CSE\\Thesis\\LCPUMLA\\Datasets\\lung_cancer1.csv\")"
   ]
  },
  {
   "cell_type": "code",
   "execution_count": null,
   "metadata": {},
   "outputs": [],
   "source": [
    "#show data set's row and column\n",
    "data_set.shape"
   ]
  },
  {
   "cell_type": "code",
   "execution_count": null,
   "metadata": {},
   "outputs": [],
   "source": [
    "#data set's head \n",
    "data_set.head()"
   ]
  },
  {
   "cell_type": "code",
   "execution_count": null,
   "metadata": {},
   "outputs": [],
   "source": [
    "#check null value\n",
    "data_set.isnull().values.any()"
   ]
  },
  {
   "cell_type": "code",
   "execution_count": null,
   "metadata": {},
   "outputs": [],
   "source": [
    "#data_set correlation heatmap\n",
    "def correlation_heatmap(data_set, size):\n",
    "    correlation = data_set.corr()\n",
    "    \n",
    "    # Dividing the plot into subplots for increasing size of plots\n",
    "    fig, heatmap = plt.subplots(figsize=(size, size))\n",
    "    \n",
    "    # Plotting the correlation heatmap\n",
    "    heatmap.matshow(correlation)\n",
    "    \n",
    "    # Adding xticks and yticks\n",
    "    plt.xticks(range(len(correlation.columns)), correlation.columns)\n",
    "    plt.yticks(range(len(correlation.columns)), correlation.columns)\n",
    "    \n",
    "    # Displaying the graph\n",
    "    plt.show()"
   ]
  },
  {
   "cell_type": "code",
   "execution_count": null,
   "metadata": {},
   "outputs": [],
   "source": [
    "correlation_heatmap(data_set, 26)"
   ]
  },
  {
   "cell_type": "code",
   "execution_count": null,
   "metadata": {},
   "outputs": [],
   "source": [
    "data_set.head()"
   ]
  },
  {
   "cell_type": "code",
   "execution_count": null,
   "metadata": {},
   "outputs": [],
   "source": [
    "#change level column's value into number\n",
    "\n",
    "change_level = {\n",
    "    \"Low\": 1,\n",
    "    \"Medium\": 2,\n",
    "    \"High\": 3,\n",
    "}\n",
    "\n",
    "\n",
    "data_set[\"Level\"] = data_set[\"Level\"].map(change_level)\n",
    "del data_set[\"Patient Id\"]\n",
    "\n",
    "data_set.head()"
   ]
  },
  {
   "cell_type": "code",
   "execution_count": null,
   "metadata": {},
   "outputs": [],
   "source": [
    "#data spliting\n",
    "from sklearn.model_selection import train_test_split\n",
    "\n",
    "features_col = ['Age','Gender','AirPollution','Alcoholuse','DustAllergy','DustAllergy','OccuPationalHazards','GeneticRisk','chronicLungDisease','BalancedDiet','Obesity','Smoking','PassiveSmoker','ChestPain','CoughingofBlood','Fatigue','WeightLoss','ShortnessofBreath','Wheezing','SwallowingDifficulty','ClubbingofFingerNails','FrequentCold','DryCough','Snoring']\n",
    "predict_col = ['Level']\n",
    "\n",
    "F = data_set[features_col].values\n",
    "P = data_set[predict_col].values\n",
    "\n",
    "\n",
    "# Saving 30% for testing\n",
    "split_test_size = 0.30\n",
    "\n",
    "\n",
    "# Splitting\n",
    "F_train, F_test, P_train, P_test = train_test_split(F, P, test_size = split_test_size, random_state = 42)\n",
    "\n",
    "\n",
    "#check spliting is accurate or not \n",
    "print(\"{0:0.2f}% in training set\".format((len(F_train)/len(data_set.index)) * 100))\n",
    "print(\"{0:0.2f}% in test set\".format((len(P_test)/len(data_set.index)) * 100)) \n"
   ]
  },
  {
   "cell_type": "code",
   "execution_count": null,
   "metadata": {},
   "outputs": [],
   "source": [
    "#model training with naive bayes classifier algorithm\n",
    "from sklearn.naive_bayes import GaussianNB\n",
    "\n",
    "#creating model object\n",
    "nb_model = GaussianNB()\n",
    "\n",
    "nb_model.fit(F_train, P_train.ravel())"
   ]
  },
  {
   "cell_type": "code",
   "execution_count": null,
   "metadata": {},
   "outputs": [],
   "source": [
    "# returns predicted results\n",
    "prediction_from_trained_data = nb_model.predict(F_train)\n",
    "prediction_from_test_data = nb_model.predict(F_test)\n",
    "\n",
    "# performance metrics library\n",
    "from sklearn import metrics\n",
    "\n",
    "# get current accuracy of the model\n",
    "\n",
    "accuracy_from_trained_data = metrics.accuracy_score(P_train, prediction_from_trained_data)\n",
    "accuracy_from_test_data = metrics.accuracy_score(P_test, prediction_from_test_data)"
   ]
  },
  {
   "cell_type": "code",
   "execution_count": null,
   "metadata": {},
   "outputs": [],
   "source": [
    "print (\"Accuracy from trained data of naive bayes model is : {0:.4f}\".format(accuracy_from_trained_data))\n",
    "\n",
    "print (\"Accuracy from test data of naive bayes model is : {0:.4f}\".format(accuracy_from_test_data))"
   ]
  }
 ],
 "metadata": {
  "kernelspec": {
   "display_name": "Python 3",
   "language": "python",
   "name": "python3"
  },
  "language_info": {
   "codemirror_mode": {
    "name": "ipython",
    "version": 3
   },
   "file_extension": ".py",
   "mimetype": "text/x-python",
   "name": "python",
   "nbconvert_exporter": "python",
   "pygments_lexer": "ipython3",
   "version": "3.7.4"
  }
 },
 "nbformat": 4,
 "nbformat_minor": 2
}
