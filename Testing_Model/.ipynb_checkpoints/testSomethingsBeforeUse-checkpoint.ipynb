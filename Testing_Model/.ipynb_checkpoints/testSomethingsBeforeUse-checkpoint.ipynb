{
 "cells": [
  {
   "cell_type": "code",
   "execution_count": 24,
   "metadata": {},
   "outputs": [
    {
     "name": "stdout",
     "output_type": "stream",
     "text": [
      "machine learnig algorithm\n"
     ]
    }
   ],
   "source": [
    "import numpy as np\n",
    "import pandas as pd\n",
    "\n",
    "print(\"machine learnig algorithm\")"
   ]
  },
  {
   "cell_type": "code",
   "execution_count": 25,
   "metadata": {},
   "outputs": [
    {
     "name": "stdout",
     "output_type": "stream",
     "text": [
      "['munna' 'ifti']\n",
      "1.16.5\n"
     ]
    }
   ],
   "source": [
    "arr = np.array([\"munna\", \"ifti\"])\n",
    "print(arr)\n",
    "print(np.__version__)"
   ]
  },
  {
   "cell_type": "code",
   "execution_count": 26,
   "metadata": {},
   "outputs": [
    {
     "name": "stdout",
     "output_type": "stream",
     "text": [
      "name      [munna, ifti]\n",
      "number         [13, 26]\n",
      "dtype: object\n",
      "    name  number\n",
      "0  munna      13\n",
      "1   ifti      26\n"
     ]
    }
   ],
   "source": [
    "data = {\n",
    "    \"name\": [\"munna\", \"ifti\"],\n",
    "    \"number\": [13, 26]\n",
    "}\n",
    "\n",
    "pd_output = pd.Series(data)\n",
    "print(pd_output)\n",
    "print(pd.DataFrame(data))"
   ]
  },
  {
   "cell_type": "code",
   "execution_count": 34,
   "metadata": {},
   "outputs": [
    {
     "name": "stdout",
     "output_type": "stream",
     "text": [
      "          Name  Member_ID Diagnosis  Age  Smokes Smokes (years)  \\\n",
      "0         Wick      91550         M   35       3              0   \n",
      "1  Constantine     915664         M   27      20              0   \n",
      "2     Anderson     915691         M   30       0              0   \n",
      "3       Telles     915940         M   28       0             37   \n",
      "4     Maradona   91594602         M   68       4              0   \n",
      "5      Ronaldo     916221         M   34       0              0   \n",
      "6          Tal     916799         M   58      15             34   \n",
      "7        Bates     916838         M   22      12              0   \n",
      "8       Kidman     917062         M   45       2              0   \n",
      "9      Milland     917080         M   52      18    1.266972909   \n",
      "\n",
      "  Smokes (packs/year)  AreaQ  Alkhol  family history  Result  \n",
      "0                   0      5       4               0       1  \n",
      "1                   0      2       5               0       1  \n",
      "2                   0      5       2               0       0  \n",
      "3                  37      8       1               1       0  \n",
      "4                   0      5       6               0       1  \n",
      "5                   0     10       0               0       0  \n",
      "6                 3.4     10       0               0       0  \n",
      "7                   0      5       2               1       0  \n",
      "8                   0      6       0               1       0  \n",
      "9                 2.8      4       5               0       1  \n"
     ]
    }
   ],
   "source": [
    "# %reacd csv file \n",
    "data_set = pd.read_csv(r\"I:\\1.CSE\\Thesis\\LCPUMLA\\Datasets\\lung_cancer3.csv\")\n",
    "print(data_set.head(10))"
   ]
  },
  {
   "cell_type": "code",
   "execution_count": 37,
   "metadata": {},
   "outputs": [
    {
     "name": "stdout",
     "output_type": "stream",
     "text": [
      "<class 'pandas.core.frame.DataFrame'>\n",
      "RangeIndex: 1298 entries, 0 to 1297\n",
      "Data columns (total 11 columns):\n",
      "Name                   1298 non-null object\n",
      "Member_ID              1298 non-null int64\n",
      "Diagnosis              1298 non-null object\n",
      "Age                    1298 non-null int64\n",
      "Smokes                 1298 non-null int64\n",
      "Smokes (years)         1298 non-null object\n",
      "Smokes (packs/year)    1298 non-null object\n",
      "AreaQ                  1298 non-null int64\n",
      "Alkhol                 1298 non-null int64\n",
      "family history         1298 non-null int64\n",
      "Result                 1298 non-null int64\n",
      "dtypes: int64(7), object(4)\n",
      "memory usage: 111.7+ KB\n",
      "None\n"
     ]
    }
   ],
   "source": [
    "print(data_set.info())"
   ]
  },
  {
   "cell_type": "code",
   "execution_count": 40,
   "metadata": {},
   "outputs": [
    {
     "name": "stdout",
     "output_type": "stream",
     "text": [
      "           Name  Member_ID Diagnosis  Age  Smokes Smokes (years)  \\\n",
      "1288    Hepburn     925291         B   62      20              0   \n",
      "1289    Hepburn     925292         B   42      12              0   \n",
      "1290  Streisand     925311         B   44      30              0   \n",
      "1291      Smith     925622         B   26      34              0   \n",
      "1292    Jackson     926125         M   35      20             18   \n",
      "1293   Borgnine     926424         M   26      13              0   \n",
      "1294   Guinness     926682         B   77      20              0   \n",
      "1295     Heston     926954         M   75      15              0   \n",
      "1296       Peck     927241         M   43      30              7   \n",
      "1297    Poitier      92751         B   51      25              0   \n",
      "\n",
      "     Smokes (packs/year)  AreaQ  Alkhol  family history  Result  \n",
      "1288                   0      5       6               1       1  \n",
      "1289                   0      6       2               1       0  \n",
      "1290                   0      1       6               1       1  \n",
      "1291                   0      1       8               0       1  \n",
      "1292                   9      5       1               1       0  \n",
      "1293                   0      6       1               0       0  \n",
      "1294                   0      5       4               0       1  \n",
      "1295                   0      3       5               0       1  \n",
      "1296                 1.6      3       8               0       1  \n",
      "1297                   0      9       0               1       0  \n"
     ]
    }
   ],
   "source": [
    "print(data_set.tail(10))"
   ]
  },
  {
   "cell_type": "code",
   "execution_count": 41,
   "metadata": {},
   "outputs": [
    {
     "data": {
      "text/html": [
       "<div>\n",
       "<style scoped>\n",
       "    .dataframe tbody tr th:only-of-type {\n",
       "        vertical-align: middle;\n",
       "    }\n",
       "\n",
       "    .dataframe tbody tr th {\n",
       "        vertical-align: top;\n",
       "    }\n",
       "\n",
       "    .dataframe thead th {\n",
       "        text-align: right;\n",
       "    }\n",
       "</style>\n",
       "<table border=\"1\" class=\"dataframe\">\n",
       "  <thead>\n",
       "    <tr style=\"text-align: right;\">\n",
       "      <th></th>\n",
       "      <th>Member_ID</th>\n",
       "      <th>Age</th>\n",
       "      <th>Smokes</th>\n",
       "      <th>AreaQ</th>\n",
       "      <th>Alkhol</th>\n",
       "      <th>family history</th>\n",
       "      <th>Result</th>\n",
       "    </tr>\n",
       "  </thead>\n",
       "  <tbody>\n",
       "    <tr>\n",
       "      <td>Member_ID</td>\n",
       "      <td>1.000000</td>\n",
       "      <td>0.053895</td>\n",
       "      <td>0.030370</td>\n",
       "      <td>-0.028592</td>\n",
       "      <td>0.005043</td>\n",
       "      <td>-0.033763</td>\n",
       "      <td>0.045809</td>\n",
       "    </tr>\n",
       "    <tr>\n",
       "      <td>Age</td>\n",
       "      <td>0.053895</td>\n",
       "      <td>1.000000</td>\n",
       "      <td>0.053665</td>\n",
       "      <td>-0.268957</td>\n",
       "      <td>0.318621</td>\n",
       "      <td>-0.124552</td>\n",
       "      <td>0.637726</td>\n",
       "    </tr>\n",
       "    <tr>\n",
       "      <td>Smokes</td>\n",
       "      <td>0.030370</td>\n",
       "      <td>0.053665</td>\n",
       "      <td>1.000000</td>\n",
       "      <td>-0.353295</td>\n",
       "      <td>0.469915</td>\n",
       "      <td>0.000728</td>\n",
       "      <td>0.373444</td>\n",
       "    </tr>\n",
       "    <tr>\n",
       "      <td>AreaQ</td>\n",
       "      <td>-0.028592</td>\n",
       "      <td>-0.268957</td>\n",
       "      <td>-0.353295</td>\n",
       "      <td>1.000000</td>\n",
       "      <td>-0.714412</td>\n",
       "      <td>0.132520</td>\n",
       "      <td>-0.746621</td>\n",
       "    </tr>\n",
       "    <tr>\n",
       "      <td>Alkhol</td>\n",
       "      <td>0.005043</td>\n",
       "      <td>0.318621</td>\n",
       "      <td>0.469915</td>\n",
       "      <td>-0.714412</td>\n",
       "      <td>1.000000</td>\n",
       "      <td>-0.135589</td>\n",
       "      <td>0.810439</td>\n",
       "    </tr>\n",
       "    <tr>\n",
       "      <td>family history</td>\n",
       "      <td>-0.033763</td>\n",
       "      <td>-0.124552</td>\n",
       "      <td>0.000728</td>\n",
       "      <td>0.132520</td>\n",
       "      <td>-0.135589</td>\n",
       "      <td>1.000000</td>\n",
       "      <td>-0.191686</td>\n",
       "    </tr>\n",
       "    <tr>\n",
       "      <td>Result</td>\n",
       "      <td>0.045809</td>\n",
       "      <td>0.637726</td>\n",
       "      <td>0.373444</td>\n",
       "      <td>-0.746621</td>\n",
       "      <td>0.810439</td>\n",
       "      <td>-0.191686</td>\n",
       "      <td>1.000000</td>\n",
       "    </tr>\n",
       "  </tbody>\n",
       "</table>\n",
       "</div>"
      ],
      "text/plain": [
       "                Member_ID       Age    Smokes     AreaQ    Alkhol  \\\n",
       "Member_ID        1.000000  0.053895  0.030370 -0.028592  0.005043   \n",
       "Age              0.053895  1.000000  0.053665 -0.268957  0.318621   \n",
       "Smokes           0.030370  0.053665  1.000000 -0.353295  0.469915   \n",
       "AreaQ           -0.028592 -0.268957 -0.353295  1.000000 -0.714412   \n",
       "Alkhol           0.005043  0.318621  0.469915 -0.714412  1.000000   \n",
       "family history  -0.033763 -0.124552  0.000728  0.132520 -0.135589   \n",
       "Result           0.045809  0.637726  0.373444 -0.746621  0.810439   \n",
       "\n",
       "                family history    Result  \n",
       "Member_ID            -0.033763  0.045809  \n",
       "Age                  -0.124552  0.637726  \n",
       "Smokes                0.000728  0.373444  \n",
       "AreaQ                 0.132520 -0.746621  \n",
       "Alkhol               -0.135589  0.810439  \n",
       "family history        1.000000 -0.191686  \n",
       "Result               -0.191686  1.000000  "
      ]
     },
     "execution_count": 41,
     "metadata": {},
     "output_type": "execute_result"
    }
   ],
   "source": [
    "data_set.corr()"
   ]
  }
 ],
 "metadata": {
  "kernelspec": {
   "display_name": "Python 3",
   "language": "python",
   "name": "python3"
  },
  "language_info": {
   "codemirror_mode": {
    "name": "ipython",
    "version": 3
   },
   "file_extension": ".py",
   "mimetype": "text/x-python",
   "name": "python",
   "nbconvert_exporter": "python",
   "pygments_lexer": "ipython3",
   "version": "3.7.4"
  }
 },
 "nbformat": 4,
 "nbformat_minor": 2
}
