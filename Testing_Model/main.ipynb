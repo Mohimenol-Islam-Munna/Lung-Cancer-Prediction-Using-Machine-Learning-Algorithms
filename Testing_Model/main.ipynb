{
 "cells": [
  {
   "cell_type": "code",
   "execution_count": null,
   "metadata": {},
   "outputs": [],
   "source": [
    "#import required modules\n",
    "\n",
    "import pandas as pd\n",
    "import matplotlib.pyplot as plt\n",
    "import numpy as np\n",
    "\n",
    "%matplotlib inline\n",
    "df = pd.read_csv('D:\\Thesis\\LCPUMLA\\Datasets\\survey_lung_cancer2.csv')\n",
    "\n",
    "print(df.head())\n",
    "print(df.shape)"
   ]
  },
  {
   "cell_type": "code",
   "execution_count": null,
   "metadata": {},
   "outputs": [],
   "source": [
    "#checking null values\n",
    "\n",
    "print(df.isnull().values.any())"
   ]
  },
  {
   "cell_type": "code",
   "execution_count": null,
   "metadata": {},
   "outputs": [],
   "source": [
    "# Here size means plot-size\n",
    "def corr_heatmap(data_frame, size=11):\n",
    "  # Getting correlation using Pandas\n",
    "  correlation = df.corr()\n",
    "\n",
    "  # Dividing the plot into subplots for increasing size of plots\n",
    "  fig, heatmap = plt.subplots(figsize=(size, size))\n",
    "\n",
    "  # Plotting the correlation heatmap\n",
    "  heatmap.matshow(correlation)\n",
    "\n",
    "  # Adding xticks and yticks\n",
    "  plt.xticks(range(len(correlation.columns)), correlation.columns)\n",
    "  plt.yticks(range(len(correlation.columns)), correlation.columns)\n",
    "\n",
    "  # Displaying the graph\n",
    "  plt.show()"
   ]
  },
  {
   "cell_type": "code",
   "execution_count": null,
   "metadata": {},
   "outputs": [],
   "source": [
    "#Generate Heatmap\n",
    "\n",
    "corr_heatmap(df)"
   ]
  },
  {
   "cell_type": "code",
   "execution_count": null,
   "metadata": {},
   "outputs": [],
   "source": [
    "#Changing result value's data type\n",
    "\n",
    "lc_result = {\"YES\": 1, \"NO\": 0}\n",
    "\n",
    "df['LUNG_CANCER'] = df['LUNG_CANCER'].map(lc_result)\n",
    "\n",
    "print(df.head(20))"
   ]
  },
  {
   "cell_type": "code",
   "execution_count": null,
   "metadata": {},
   "outputs": [],
   "source": []
  }
 ],
 "metadata": {
  "kernelspec": {
   "display_name": "Python 3",
   "language": "python",
   "name": "python3"
  },
  "language_info": {
   "codemirror_mode": {
    "name": "ipython",
    "version": 3
   },
   "file_extension": ".py",
   "mimetype": "text/x-python",
   "name": "python",
   "nbconvert_exporter": "python",
   "pygments_lexer": "ipython3",
   "version": "3.7.4"
  }
 },
 "nbformat": 4,
 "nbformat_minor": 2
}
